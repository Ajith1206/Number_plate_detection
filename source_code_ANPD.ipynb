{
 "cells": [
  {
   "cell_type": "markdown",
   "id": "40532fc7",
   "metadata": {},
   "source": [
    "# Automatic Number Plate Detection Algorithm Integration"
   ]
  },
  {
   "cell_type": "markdown",
   "id": "28546acb",
   "metadata": {},
   "source": [
    "# Source Codes"
   ]
  },
  {
   "cell_type": "code",
   "execution_count": null,
   "id": "17f95feb",
   "metadata": {},
   "outputs": [],
   "source": [
    "#!pip install easyocr\n",
    "#!pip install imutils"
   ]
  },
  {
   "cell_type": "code",
   "execution_count": null,
   "id": "1a9fa6ad",
   "metadata": {},
   "outputs": [],
   "source": [
    "# importing Libraries \n",
    "import cv2\n",
    "from google.colab.patches import cv2_imshow\n",
    "import easyocr\n",
    "import imutils\n",
    "import numpy as np\n",
    "from matplotlib import pyplot as plt"
   ]
  },
  {
   "cell_type": "code",
   "execution_count": null,
   "id": "1b9b27b3",
   "metadata": {},
   "outputs": [],
   "source": [
    "# Load the pre-trained Haar cascade classifier for license plate detection\n",
    "plate_cascade = cv2.CascadeClassifier('indian_number_plate.xml')\n",
    "\n",
    "# Check if the cascade classifier is loaded successfully\n",
    "if plate_cascade.empty():\n",
    "    raise IOError('Unable to load the number plate cascade classifier XML file.')\n"
   ]
  },
  {
   "cell_type": "markdown",
   "id": "98bbaf26",
   "metadata": {},
   "source": [
    "# Number Plate Text Detection"
   ]
  },
  {
   "cell_type": "code",
   "execution_count": null,
   "id": "86b5ff67",
   "metadata": {},
   "outputs": [],
   "source": [
    "images = ['data14.png','data17.png','data11.png','data9.png']    # input images\n",
    " \n",
    "for i in images:                                                 # applied for_loop to run one by one\n",
    "  \n",
    "    img = cv2.imread(i)                                            # pulling data in opencv2 format\n",
    "\n",
    "    gray = cv2.cvtColor(img, cv2.COLOR_BGR2GRAY)                   # scaling 3channel to 2 channel (gray scale or black white color image) \n",
    "   \n",
    "  bfilter = cv2.bilateralFilter(gray, 11, 17, 17)                #Noise reduction need gray scale image\n",
    "\n",
    "    edged = cv2.Canny(bfilter, 30, 200)                            #Edge detection or draw boundary line \n",
    "\n",
    "    keypoints = cv2.findContours(edged.copy(), cv2.RETR_TREE, cv2.CHAIN_APPROX_SIMPLE)  # give x,y values of edges point\n",
    "\n",
    "    contours = imutils.grab_contours(keypoints)                    #  Grab x y cordinates objects   \n",
    "             \n",
    "                                                                 #sorting reverse and geting top 10\n",
    "\n",
    "    contours = sorted(contours, key=cv2.contourArea, reverse=True)[:10]  \n",
    "\n",
    "    location = None                                                # giving none value to location\n",
    "\n",
    "    for contour in contours:                                       # applyong fo_loop for top 10 counters\n",
    "    approx = cv2.approxPolyDP(contour, 10, True)\n",
    "    if len(approx) == 4:                                         # collecting only 4 points counter and saving in location variable\n",
    "        location = approx\n",
    "        break\n",
    "\n",
    "    mask = np.zeros(gray.shape, np.uint8)                          # saving empty container  in mask variable\n",
    "\n",
    "    new_image = cv2.drawContours(mask, [location], 0,255, -1)      #applying mask to identify the number plate location\n",
    "    new_image = cv2.bitwise_and(img, img, mask=mask)\n",
    "\n",
    "    (x,y) = np.where(mask==255)                                   # storing min max weight and height in new variable\n",
    "    (x1, y1) = (np.min(x), np.min(y))\n",
    "    (x2, y2) = (np.max(x), np.max(y))\n",
    "\n",
    "    cropped_image = gray[x1:x2+1, y1:y2+1]                        # cropped image\n",
    "\n",
    "    reader = easyocr.Reader(['en'])                               # collecting text from cropped image using easyocr library\n",
    "    result = reader.readtext(cropped_image) \n",
    "    text = result[0][-2]                                          # collecting text value from array\n",
    "\n",
    "                                                                # collecting dimension of number plate\n",
    "    print(\"Number Plate Detected : \",text)                        # extracting text\n",
    "    print(\" \")            \n"
   ]
  },
  {
   "cell_type": "markdown",
   "id": "fa9ecee3",
   "metadata": {},
   "source": [
    "# Replacing Number plate to Company logo"
   ]
  },
  {
   "cell_type": "code",
   "execution_count": null,
   "id": "18fd7b21",
   "metadata": {},
   "outputs": [],
   "source": [
    "plates = plate_cascade.detectMultiScale(gray, scaleFactor=1.2, minNeighbors=15, minSize=(50, 50))  \n",
    "  \n",
    "    for (x, y, w, h) in plates:\n",
    "                                                                # Load the logo image\n",
    "    logo = cv2.imread('logo.png')\n",
    "\n",
    "                                                                # Resize the logo image to match the dimensions of the number plate region\n",
    "    resized_logo = cv2.resize(logo, (w, h))\n",
    "\n",
    "                                                                # Replace the number plate region with the logo\n",
    "    img[y:y+h, x:x+w] = resized_logo\n",
    "\n",
    "\n",
    "    cv2_imshow(img)                                             # extracting replaced number plate images by company logo             \n"
   ]
  },
  {
   "cell_type": "code",
   "execution_count": null,
   "id": "ca3905ac",
   "metadata": {},
   "outputs": [],
   "source": []
  },
  {
   "cell_type": "code",
   "execution_count": null,
   "id": "43aef224",
   "metadata": {},
   "outputs": [],
   "source": []
  },
  {
   "cell_type": "code",
   "execution_count": null,
   "id": "7b04a622",
   "metadata": {},
   "outputs": [],
   "source": []
  },
  {
   "cell_type": "code",
   "execution_count": null,
   "id": "b6036606",
   "metadata": {},
   "outputs": [],
   "source": []
  },
  {
   "cell_type": "code",
   "execution_count": null,
   "id": "5b86becc",
   "metadata": {},
   "outputs": [],
   "source": []
  },
  {
   "cell_type": "code",
   "execution_count": null,
   "id": "c6dd80c4",
   "metadata": {},
   "outputs": [],
   "source": []
  },
  {
   "cell_type": "code",
   "execution_count": null,
   "id": "ee6638cb",
   "metadata": {},
   "outputs": [],
   "source": []
  }
 ],
 "metadata": {
  "kernelspec": {
   "display_name": "Python 3 (ipykernel)",
   "language": "python",
   "name": "python3"
  },
  "language_info": {
   "codemirror_mode": {
    "name": "ipython",
    "version": 3
   },
   "file_extension": ".py",
   "mimetype": "text/x-python",
   "name": "python",
   "nbconvert_exporter": "python",
   "pygments_lexer": "ipython3",
   "version": "3.9.7"
  }
 },
 "nbformat": 4,
 "nbformat_minor": 5
}
